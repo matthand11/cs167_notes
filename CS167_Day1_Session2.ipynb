{
  "nbformat": 4,
  "nbformat_minor": 0,
  "metadata": {
    "colab": {
      "provenance": [],
      "authorship_tag": "ABX9TyMAmnbGBvE00n8HmJZK6PzK",
      "include_colab_link": true
    },
    "kernelspec": {
      "name": "python3",
      "display_name": "Python 3"
    },
    "language_info": {
      "name": "python"
    }
  },
  "cells": [
    {
      "cell_type": "markdown",
      "metadata": {
        "id": "view-in-github",
        "colab_type": "text"
      },
      "source": [
        "<a href=\"https://colab.research.google.com/github/matthand11/cs167_notes/blob/main/CS167_Day1_Session2.ipynb\" target=\"_parent\"><img src=\"https://colab.research.google.com/assets/colab-badge.svg\" alt=\"Open In Colab\"/></a>"
      ]
    },
    {
      "cell_type": "markdown",
      "source": [
        "# Colab Tutorial\n",
        "Jan 3rd, 2023\n",
        "\n",
        "You can run Python code in Colab. Use shortcut `shift + return`\n",
        "\n",
        "Markdown basics:\n",
        "- **bold text**, also __Bold text__\n",
        "- *italicized*, also _italics_\n",
        "- `typewriter text`\n",
        "- [link](www.google.com)\n",
        "  - new level of indent\n",
        "\n",
        "\n"
      ],
      "metadata": {
        "id": "KLHhVDetimOP"
      }
    },
    {
      "cell_type": "code",
      "source": [],
      "metadata": {
        "id": "QzbNr3c9jmW8"
      },
      "execution_count": null,
      "outputs": []
    }
  ]
}